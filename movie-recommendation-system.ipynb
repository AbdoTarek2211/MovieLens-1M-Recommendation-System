{
 "cells": [
  {
   "cell_type": "code",
   "execution_count": 1,
   "id": "c59aa1fc",
   "metadata": {
    "_cell_guid": "b1076dfc-b9ad-4769-8c92-a6c4dae69d19",
    "_uuid": "8f2839f25d086af736a60e9eeb907d3b93b6e0e5",
    "execution": {
     "iopub.execute_input": "2025-07-24T19:58:14.843375Z",
     "iopub.status.busy": "2025-07-24T19:58:14.843063Z",
     "iopub.status.idle": "2025-07-24T19:58:19.454292Z",
     "shell.execute_reply": "2025-07-24T19:58:19.453345Z"
    },
    "papermill": {
     "duration": 4.621679,
     "end_time": "2025-07-24T19:58:19.455906",
     "exception": false,
     "start_time": "2025-07-24T19:58:14.834227",
     "status": "completed"
    },
    "tags": []
   },
   "outputs": [],
   "source": [
    "import numpy as np\n",
    "import pandas as pd\n",
    "import matplotlib.pyplot as plt\n",
    "import seaborn as sns\n",
    "from sklearn.feature_extraction.text import TfidfVectorizer\n",
    "from sklearn.neighbors import NearestNeighbors\n",
    "from sklearn.metrics.pairwise import cosine_similarity\n",
    "from sklearn.decomposition import NMF\n",
    "from surprise import SVD, SVDpp, NMF as SurpriseNMF, Dataset, Reader\n",
    "from surprise.model_selection import cross_validate, train_test_split\n",
    "from surprise import accuracy\n",
    "from collections import defaultdict\n",
    "import pickle, joblib\n",
    "from scipy.sparse import save_npz, csr_matrix\n",
    "import warnings\n",
    "warnings.filterwarnings('ignore')"
   ]
  },
  {
   "cell_type": "code",
   "execution_count": 2,
   "id": "1f15684c",
   "metadata": {
    "execution": {
     "iopub.execute_input": "2025-07-24T19:58:19.468106Z",
     "iopub.status.busy": "2025-07-24T19:58:19.467692Z",
     "iopub.status.idle": "2025-07-24T19:58:19.978692Z",
     "shell.execute_reply": "2025-07-24T19:58:19.977818Z"
    },
    "papermill": {
     "duration": 0.51859,
     "end_time": "2025-07-24T19:58:19.980284",
     "exception": false,
     "start_time": "2025-07-24T19:58:19.461694",
     "status": "completed"
    },
    "tags": []
   },
   "outputs": [],
   "source": [
    "# Load data\n",
    "ratings = pd.read_csv(\"/kaggle/input/movielens-1m/ratings.csv\")\n",
    "movies = pd.read_csv(\"/kaggle/input/movielens-1m/movies.csv\")"
   ]
  },
  {
   "cell_type": "code",
   "execution_count": 3,
   "id": "e0b1aaf4",
   "metadata": {
    "execution": {
     "iopub.execute_input": "2025-07-24T19:58:19.993446Z",
     "iopub.status.busy": "2025-07-24T19:58:19.993181Z",
     "iopub.status.idle": "2025-07-24T19:58:20.007427Z",
     "shell.execute_reply": "2025-07-24T19:58:20.006095Z"
    },
    "papermill": {
     "duration": 0.021842,
     "end_time": "2025-07-24T19:58:20.008942",
     "exception": false,
     "start_time": "2025-07-24T19:58:19.987100",
     "status": "completed"
    },
    "tags": []
   },
   "outputs": [
    {
     "name": "stdout",
     "output_type": "stream",
     "text": [
      "Ratings:\n",
      "   userId  movieId  rating  timestamp\n",
      "0       1     1193       5  978300760\n",
      "1       1      661       3  978302109\n",
      "2       1      914       3  978301968\n",
      "3       1     3408       4  978300275\n",
      "4       1     2355       5  978824291\n"
     ]
    }
   ],
   "source": [
    "# Display first few rows\n",
    "print(\"Ratings:\")\n",
    "print(ratings.head())"
   ]
  },
  {
   "cell_type": "code",
   "execution_count": 4,
   "id": "5e14ec70",
   "metadata": {
    "execution": {
     "iopub.execute_input": "2025-07-24T19:58:20.020913Z",
     "iopub.status.busy": "2025-07-24T19:58:20.020591Z",
     "iopub.status.idle": "2025-07-24T19:58:20.027450Z",
     "shell.execute_reply": "2025-07-24T19:58:20.026123Z"
    },
    "papermill": {
     "duration": 0.014353,
     "end_time": "2025-07-24T19:58:20.028788",
     "exception": false,
     "start_time": "2025-07-24T19:58:20.014435",
     "status": "completed"
    },
    "tags": []
   },
   "outputs": [
    {
     "name": "stdout",
     "output_type": "stream",
     "text": [
      "\n",
      "Movies:\n",
      "   movieId                               title                        genres\n",
      "0        1                    Toy Story (1995)   Animation|Children's|Comedy\n",
      "1        2                      Jumanji (1995)  Adventure|Children's|Fantasy\n",
      "2        3             Grumpier Old Men (1995)                Comedy|Romance\n",
      "3        4            Waiting to Exhale (1995)                  Comedy|Drama\n",
      "4        5  Father of the Bride Part II (1995)                        Comedy\n"
     ]
    }
   ],
   "source": [
    "print(\"\\nMovies:\")\n",
    "print(movies.head())"
   ]
  },
  {
   "cell_type": "code",
   "execution_count": 5,
   "id": "938ece00",
   "metadata": {
    "execution": {
     "iopub.execute_input": "2025-07-24T19:58:20.040839Z",
     "iopub.status.busy": "2025-07-24T19:58:20.040545Z",
     "iopub.status.idle": "2025-07-24T19:58:20.062368Z",
     "shell.execute_reply": "2025-07-24T19:58:20.061218Z"
    },
    "papermill": {
     "duration": 0.029964,
     "end_time": "2025-07-24T19:58:20.064285",
     "exception": false,
     "start_time": "2025-07-24T19:58:20.034321",
     "status": "completed"
    },
    "tags": []
   },
   "outputs": [
    {
     "name": "stdout",
     "output_type": "stream",
     "text": [
      "Null Value Check:\n",
      "\n",
      "Ratings:\n",
      " userId       0\n",
      "movieId      0\n",
      "rating       0\n",
      "timestamp    0\n",
      "dtype: int64\n",
      "\n",
      "Movies:\n",
      " movieId    0\n",
      "title      0\n",
      "genres     0\n",
      "dtype: int64\n"
     ]
    }
   ],
   "source": [
    "# ✅ Null value check\n",
    "print(\"Null Value Check:\\n\")\n",
    "print(\"Ratings:\\n\", ratings.isnull().sum())\n",
    "print(\"\\nMovies:\\n\", movies.isnull().sum())"
   ]
  },
  {
   "cell_type": "code",
   "execution_count": 6,
   "id": "061d3716",
   "metadata": {
    "execution": {
     "iopub.execute_input": "2025-07-24T19:58:20.077670Z",
     "iopub.status.busy": "2025-07-24T19:58:20.077356Z",
     "iopub.status.idle": "2025-07-24T19:58:20.257703Z",
     "shell.execute_reply": "2025-07-24T19:58:20.256371Z"
    },
    "papermill": {
     "duration": 0.188084,
     "end_time": "2025-07-24T19:58:20.259185",
     "exception": false,
     "start_time": "2025-07-24T19:58:20.071101",
     "status": "completed"
    },
    "tags": []
   },
   "outputs": [
    {
     "name": "stdout",
     "output_type": "stream",
     "text": [
      "Duplicate Check:\n",
      "\n",
      "Ratings: 0\n",
      "Movies: 0\n"
     ]
    }
   ],
   "source": [
    "# ✅ Duplicate check\n",
    "print(\"Duplicate Check:\\n\")\n",
    "print(\"Ratings:\", ratings.duplicated().sum())\n",
    "print(\"Movies:\", movies.duplicated().sum())"
   ]
  },
  {
   "cell_type": "code",
   "execution_count": 7,
   "id": "66a7a8c0",
   "metadata": {
    "execution": {
     "iopub.execute_input": "2025-07-24T19:58:20.271504Z",
     "iopub.status.busy": "2025-07-24T19:58:20.270895Z",
     "iopub.status.idle": "2025-07-24T19:58:20.300732Z",
     "shell.execute_reply": "2025-07-24T19:58:20.299578Z"
    },
    "papermill": {
     "duration": 0.037714,
     "end_time": "2025-07-24T19:58:20.302416",
     "exception": false,
     "start_time": "2025-07-24T19:58:20.264702",
     "status": "completed"
    },
    "tags": []
   },
   "outputs": [
    {
     "name": "stdout",
     "output_type": "stream",
     "text": [
      "\n",
      "🎬 Top 10 Most Rated Movies:                                                   title  rating_count\n",
      "257           Star Wars: Episode IV - A New Hope (1977)          2991\n",
      "476                                Jurassic Park (1993)          2672\n",
      "585                   Terminator 2: Judgment Day (1991)          2649\n",
      "589                    Silence of the Lambs, The (1991)          2578\n",
      "1178  Star Wars: Episode V - The Empire Strikes Back...          2990\n",
      "1192  Star Wars: Episode VI - Return of the Jedi (1983)          2883\n",
      "1250                          Back to the Future (1985)          2583\n",
      "1959                         Saving Private Ryan (1998)          2653\n",
      "2502                                 Matrix, The (1999)          2590\n",
      "2789                             American Beauty (1999)          3428\n"
     ]
    }
   ],
   "source": [
    "# Top 10 most-rated movies\n",
    "top_rated = ratings['movieId'].value_counts().head(10)\n",
    "top_rated_movies = movies[movies['movieId'].isin(top_rated.index)]\n",
    "top_rated_movies = top_rated_movies.merge(top_rated.rename('rating_count'), left_on='movieId', right_index=True)\n",
    "print(\"\\n🎬 Top 10 Most Rated Movies:\", top_rated_movies[['title', 'rating_count']])"
   ]
  },
  {
   "cell_type": "code",
   "execution_count": 8,
   "id": "b9daff16",
   "metadata": {
    "execution": {
     "iopub.execute_input": "2025-07-24T19:58:20.317641Z",
     "iopub.status.busy": "2025-07-24T19:58:20.316807Z",
     "iopub.status.idle": "2025-07-24T19:58:20.335155Z",
     "shell.execute_reply": "2025-07-24T19:58:20.334124Z"
    },
    "papermill": {
     "duration": 0.02635,
     "end_time": "2025-07-24T19:58:20.336626",
     "exception": false,
     "start_time": "2025-07-24T19:58:20.310276",
     "status": "completed"
    },
    "tags": []
   },
   "outputs": [
    {
     "name": "stdout",
     "output_type": "stream",
     "text": [
      "Cleaned Ratings:\n",
      "    userId  movieId  rating\n",
      "0       1     1193       5\n",
      "1       1      661       3\n",
      "2       1      914       3\n",
      "3       1     3408       4\n",
      "4       1     2355       5\n"
     ]
    }
   ],
   "source": [
    "# Drop 'timestamp' columns if they exist\n",
    "if 'timestamp' in ratings.columns:\n",
    "    ratings = ratings.drop(columns=['timestamp'])\n",
    "\n",
    "# Show cleaned versions\n",
    "print(\"Cleaned Ratings:\\n\", ratings.head())"
   ]
  },
  {
   "cell_type": "code",
   "execution_count": 9,
   "id": "36f1fe2e",
   "metadata": {
    "execution": {
     "iopub.execute_input": "2025-07-24T19:58:20.349365Z",
     "iopub.status.busy": "2025-07-24T19:58:20.349062Z",
     "iopub.status.idle": "2025-07-24T19:58:20.462295Z",
     "shell.execute_reply": "2025-07-24T19:58:20.461145Z"
    },
    "papermill": {
     "duration": 0.121799,
     "end_time": "2025-07-24T19:58:20.464184",
     "exception": false,
     "start_time": "2025-07-24T19:58:20.342385",
     "status": "completed"
    },
    "tags": []
   },
   "outputs": [
    {
     "name": "stdout",
     "output_type": "stream",
     "text": [
      "\n",
      "Merged Ratings and Movies:\n",
      "    userId  movieId  rating                                   title  \\\n",
      "0       1     1193       5  One Flew Over the Cuckoo's Nest (1975)   \n",
      "1       1      661       3        James and the Giant Peach (1996)   \n",
      "2       1      914       3                     My Fair Lady (1964)   \n",
      "3       1     3408       4                  Erin Brockovich (2000)   \n",
      "4       1     2355       5                    Bug's Life, A (1998)   \n",
      "\n",
      "                         genres  \n",
      "0                         Drama  \n",
      "1  Animation|Children's|Musical  \n",
      "2               Musical|Romance  \n",
      "3                         Drama  \n",
      "4   Animation|Children's|Comedy  \n"
     ]
    }
   ],
   "source": [
    "# Merge ratings with movie metadata\n",
    "ratings_movies = ratings.merge(movies, on='movieId', how='left')\n",
    "print(\"\\nMerged Ratings and Movies:\\n\", ratings_movies.head())"
   ]
  },
  {
   "cell_type": "code",
   "execution_count": 10,
   "id": "4d29c590",
   "metadata": {
    "execution": {
     "iopub.execute_input": "2025-07-24T19:58:20.476747Z",
     "iopub.status.busy": "2025-07-24T19:58:20.476478Z",
     "iopub.status.idle": "2025-07-24T19:58:20.528531Z",
     "shell.execute_reply": "2025-07-24T19:58:20.527446Z"
    },
    "papermill": {
     "duration": 0.059883,
     "end_time": "2025-07-24T19:58:20.529970",
     "exception": false,
     "start_time": "2025-07-24T19:58:20.470087",
     "status": "completed"
    },
    "tags": []
   },
   "outputs": [
    {
     "name": "stdout",
     "output_type": "stream",
     "text": [
      "\n",
      "📊 Dataset Info:\n",
      "Total ratings: 1,000,209\n",
      "Total users: 6,040\n",
      "Total movies: 3,706\n",
      "\n",
      "🎯 Working with sample: 831,852 ratings from 5,000 users\n"
     ]
    }
   ],
   "source": [
    "# Fill NaNs in genres (if any)\n",
    "movies['genres'] = movies['genres'].fillna('')\n",
    "\n",
    "# 🔥 NEW: Sample data for memory efficiency\n",
    "print(\"\\n📊 Dataset Info:\")\n",
    "print(f\"Total ratings: {len(ratings):,}\")\n",
    "print(f\"Total users: {ratings['userId'].nunique():,}\")\n",
    "print(f\"Total movies: {ratings['movieId'].nunique():,}\")\n",
    "\n",
    "# For development, let's work with a sample\n",
    "sample_users = ratings['userId'].unique()[:5000]\n",
    "ratings_sample = ratings[ratings['userId'].isin(sample_users)]\n",
    "print(f\"\\n🎯 Working with sample: {len(ratings_sample):,} ratings from {len(sample_users):,} users\")"
   ]
  },
  {
   "cell_type": "code",
   "execution_count": 11,
   "id": "a42e66ca",
   "metadata": {
    "execution": {
     "iopub.execute_input": "2025-07-24T19:58:20.542699Z",
     "iopub.status.busy": "2025-07-24T19:58:20.542405Z",
     "iopub.status.idle": "2025-07-24T19:58:21.307577Z",
     "shell.execute_reply": "2025-07-24T19:58:21.306442Z"
    },
    "papermill": {
     "duration": 0.773263,
     "end_time": "2025-07-24T19:58:21.309187",
     "exception": false,
     "start_time": "2025-07-24T19:58:20.535924",
     "status": "completed"
    },
    "tags": []
   },
   "outputs": [
    {
     "name": "stdout",
     "output_type": "stream",
     "text": [
      "User-Item Matrix Shape: (6040, 3706)\n",
      "Sample of User-Item Matrix:\n",
      "movieId    1    2    3    4    5\n",
      "userId                          \n",
      "1        5.0  0.0  0.0  0.0  0.0\n",
      "2        0.0  0.0  0.0  0.0  0.0\n",
      "3        0.0  0.0  0.0  0.0  0.0\n",
      "4        0.0  0.0  0.0  0.0  0.0\n",
      "5        0.0  0.0  0.0  0.0  0.0\n",
      "Sparse matrix density: 0.0447\n"
     ]
    }
   ],
   "source": [
    "# Full dataset\n",
    "working_ratings = ratings\n",
    "\n",
    "user_item_matrix = working_ratings.pivot(index='userId', columns='movieId', values='rating').fillna(0)\n",
    "print(f\"User-Item Matrix Shape: {user_item_matrix.shape}\")\n",
    "print(\"Sample of User-Item Matrix:\")\n",
    "print(user_item_matrix.iloc[:5, :5])\n",
    "\n",
    "# Convert to sparse matrix for memory efficiency\n",
    "user_item_sparse = csr_matrix(user_item_matrix.values)\n",
    "print(f\"Sparse matrix density: {user_item_sparse.nnz / (user_item_sparse.shape[0] * user_item_sparse.shape[1]):.4f}\")"
   ]
  },
  {
   "cell_type": "markdown",
   "id": "d8239089",
   "metadata": {
    "papermill": {
     "duration": 0.006929,
     "end_time": "2025-07-24T19:58:21.322637",
     "exception": false,
     "start_time": "2025-07-24T19:58:21.315708",
     "status": "completed"
    },
    "tags": []
   },
   "source": [
    "# **User-Based Collaborative Filtering**"
   ]
  },
  {
   "cell_type": "code",
   "execution_count": 12,
   "id": "0472fb27",
   "metadata": {
    "execution": {
     "iopub.execute_input": "2025-07-24T19:58:21.335834Z",
     "iopub.status.busy": "2025-07-24T19:58:21.335518Z",
     "iopub.status.idle": "2025-07-24T19:58:24.938536Z",
     "shell.execute_reply": "2025-07-24T19:58:24.937268Z"
    },
    "papermill": {
     "duration": 3.611551,
     "end_time": "2025-07-24T19:58:24.940347",
     "exception": false,
     "start_time": "2025-07-24T19:58:21.328796",
     "status": "completed"
    },
    "tags": []
   },
   "outputs": [
    {
     "name": "stdout",
     "output_type": "stream",
     "text": [
      "User Similarity Matrix Shape: (6040, 6040)\n",
      "Sample User Similarities:\n",
      "userId         1         2         3         4         5\n",
      "userId                                                  \n",
      "1       1.000000  0.096382  0.120610  0.132455  0.090158\n",
      "2       0.096382  1.000000  0.151479  0.171176  0.114394\n",
      "3       0.120610  0.151479  1.000000  0.151227  0.062907\n",
      "4       0.132455  0.171176  0.151227  1.000000  0.045094\n",
      "5       0.090158  0.114394  0.062907  0.045094  1.000000\n"
     ]
    }
   ],
   "source": [
    "user_similarity = cosine_similarity(user_item_sparse)\n",
    "user_similarity_df = pd.DataFrame(user_similarity, \n",
    "                                 index=user_item_matrix.index, \n",
    "                                 columns=user_item_matrix.index)\n",
    "print(f\"User Similarity Matrix Shape: {user_similarity_df.shape}\")\n",
    "print(\"Sample User Similarities:\")\n",
    "print(user_similarity_df.iloc[:5, :5])"
   ]
  },
  {
   "cell_type": "code",
   "execution_count": 13,
   "id": "e110b943",
   "metadata": {
    "execution": {
     "iopub.execute_input": "2025-07-24T19:58:24.954381Z",
     "iopub.status.busy": "2025-07-24T19:58:24.954075Z",
     "iopub.status.idle": "2025-07-24T19:58:24.962833Z",
     "shell.execute_reply": "2025-07-24T19:58:24.961933Z"
    },
    "papermill": {
     "duration": 0.017925,
     "end_time": "2025-07-24T19:58:24.964297",
     "exception": false,
     "start_time": "2025-07-24T19:58:24.946372",
     "status": "completed"
    },
    "tags": []
   },
   "outputs": [],
   "source": [
    "def get_user_based_recommendations(user_id, n=10, min_similarity=0.1):\n",
    "    \"\"\"Get recommendations based on similar users\"\"\"\n",
    "    if user_id not in user_similarity_df.index:\n",
    "        print(f\"❌ User {user_id} not found in similarity matrix\")\n",
    "        return pd.DataFrame()\n",
    "    \n",
    "    # Get similar users\n",
    "    similar_users = user_similarity_df[user_id].sort_values(ascending=False)[1:]  # Exclude self\n",
    "    similar_users = similar_users[similar_users > min_similarity]\n",
    "    \n",
    "    if len(similar_users) == 0:\n",
    "        print(f\"❌ No similar users found for user {user_id}\")\n",
    "        return pd.DataFrame()\n",
    "    \n",
    "    # Get movies rated by user\n",
    "    user_movies = set(user_item_matrix.loc[user_id][user_item_matrix.loc[user_id] > 0].index)\n",
    "    \n",
    "    # Calculate weighted ratings from similar users\n",
    "    recommendations = {}\n",
    "    \n",
    "    for similar_user, similarity in similar_users.head(20).items():  # Top 20 similar users\n",
    "        similar_user_movies = user_item_matrix.loc[similar_user]\n",
    "        similar_user_movies = similar_user_movies[similar_user_movies > 0]\n",
    "        \n",
    "        # Only consider movies not seen by target user\n",
    "        for movie_id, rating in similar_user_movies.items():\n",
    "            if movie_id not in user_movies:\n",
    "                if movie_id not in recommendations:\n",
    "                    recommendations[movie_id] = []\n",
    "                recommendations[movie_id].append(rating * similarity)\n",
    "    \n",
    "    # Calculate average weighted ratings\n",
    "    final_recommendations = {}\n",
    "    for movie_id, weighted_ratings in recommendations.items():\n",
    "        final_recommendations[movie_id] = np.mean(weighted_ratings)\n",
    "    \n",
    "    # Sort and get top N\n",
    "    sorted_recs = sorted(final_recommendations.items(), key=lambda x: x[1], reverse=True)[:n]\n",
    "    \n",
    "    # Get movie titles\n",
    "    movie_ids = [rec[0] for rec in sorted_recs]\n",
    "    scores = [rec[1] for rec in sorted_recs]\n",
    "    \n",
    "    result_df = movies[movies['movieId'].isin(movie_ids)].copy()\n",
    "    result_df['predicted_rating'] = result_df['movieId'].map(dict(sorted_recs))\n",
    "    \n",
    "    return result_df[['title', 'genres', 'predicted_rating']].sort_values('predicted_rating', ascending=False)"
   ]
  },
  {
   "cell_type": "code",
   "execution_count": 14,
   "id": "512c3191",
   "metadata": {
    "execution": {
     "iopub.execute_input": "2025-07-24T19:58:24.977495Z",
     "iopub.status.busy": "2025-07-24T19:58:24.977124Z",
     "iopub.status.idle": "2025-07-24T19:58:25.002172Z",
     "shell.execute_reply": "2025-07-24T19:58:25.000938Z"
    },
    "papermill": {
     "duration": 0.033562,
     "end_time": "2025-07-24T19:58:25.003911",
     "exception": false,
     "start_time": "2025-07-24T19:58:24.970349",
     "status": "completed"
    },
    "tags": []
   },
   "outputs": [
    {
     "name": "stdout",
     "output_type": "stream",
     "text": [
      "\n",
      "🎯 User-Based Recommendations for User 1:\n",
      "                                              title  \\\n",
      "3229                             Boiler Room (2000)   \n",
      "1603            Fast, Cheap & Out of Control (1997)   \n",
      "2855               Drunken Master (Zui quan) (1979)   \n",
      "2931  Princess Mononoke, The (Mononoke Hime) (1997)   \n",
      "1211                              Annie Hall (1977)   \n",
      "982                                Big Night (1996)   \n",
      "1046                                Swingers (1996)   \n",
      "1502                        Addicted to Love (1997)   \n",
      "731      Ghost in the Shell (Kokaku kidotai) (1995)   \n",
      "56                     Home for the Holidays (1995)   \n",
      "\n",
      "                          genres  predicted_rating  \n",
      "3229                       Drama          2.060585  \n",
      "1603                 Documentary          1.960552  \n",
      "2855               Action|Comedy          1.960552  \n",
      "2931  Action|Adventure|Animation          1.960552  \n",
      "1211              Comedy|Romance          1.828631  \n",
      "982                        Drama          1.804492  \n",
      "1046                Comedy|Drama          1.804492  \n",
      "1502              Comedy|Romance          1.804492  \n",
      "731             Animation|Sci-Fi          1.783380  \n",
      "56                         Drama          1.778002  \n"
     ]
    }
   ],
   "source": [
    "# Test user-based recommendations\n",
    "test_user = user_item_matrix.index[0]\n",
    "print(f\"\\n🎯 User-Based Recommendations for User {test_user}:\")\n",
    "user_recs = get_user_based_recommendations(test_user)\n",
    "print(user_recs)"
   ]
  },
  {
   "cell_type": "markdown",
   "id": "f5178b57",
   "metadata": {
    "papermill": {
     "duration": 0.006203,
     "end_time": "2025-07-24T19:58:25.016310",
     "exception": false,
     "start_time": "2025-07-24T19:58:25.010107",
     "status": "completed"
    },
    "tags": []
   },
   "source": [
    "# **Item-Based Collaborative Filtering**"
   ]
  },
  {
   "cell_type": "code",
   "execution_count": 15,
   "id": "b8edb7bc",
   "metadata": {
    "execution": {
     "iopub.execute_input": "2025-07-24T19:58:25.030034Z",
     "iopub.status.busy": "2025-07-24T19:58:25.029400Z",
     "iopub.status.idle": "2025-07-24T19:58:26.935809Z",
     "shell.execute_reply": "2025-07-24T19:58:26.934875Z"
    },
    "papermill": {
     "duration": 1.914782,
     "end_time": "2025-07-24T19:58:26.937212",
     "exception": false,
     "start_time": "2025-07-24T19:58:25.022430",
     "status": "completed"
    },
    "tags": []
   },
   "outputs": [
    {
     "name": "stdout",
     "output_type": "stream",
     "text": [
      "Item Similarity Matrix Shape: (3706, 3706)\n"
     ]
    }
   ],
   "source": [
    "# Transpose for item-item similarity\n",
    "item_item_matrix = user_item_matrix.T\n",
    "item_similarity = cosine_similarity(csr_matrix(item_item_matrix.values))\n",
    "item_similarity_df = pd.DataFrame(item_similarity,\n",
    "                                 index=item_item_matrix.index,\n",
    "                                 columns=item_item_matrix.index)\n",
    "print(f\"Item Similarity Matrix Shape: {item_similarity_df.shape}\")"
   ]
  },
  {
   "cell_type": "code",
   "execution_count": 16,
   "id": "1ce24783",
   "metadata": {
    "execution": {
     "iopub.execute_input": "2025-07-24T19:58:26.951652Z",
     "iopub.status.busy": "2025-07-24T19:58:26.950885Z",
     "iopub.status.idle": "2025-07-24T19:58:26.959141Z",
     "shell.execute_reply": "2025-07-24T19:58:26.958182Z"
    },
    "papermill": {
     "duration": 0.017247,
     "end_time": "2025-07-24T19:58:26.960822",
     "exception": false,
     "start_time": "2025-07-24T19:58:26.943575",
     "status": "completed"
    },
    "tags": []
   },
   "outputs": [],
   "source": [
    "def get_item_based_recommendations(user_id, n=10, min_similarity=0.1):\n",
    "    \"\"\"Get recommendations based on item similarity\"\"\"\n",
    "    if user_id not in user_item_matrix.index:\n",
    "        print(f\"❌ User {user_id} not found\")\n",
    "        return pd.DataFrame()\n",
    "    \n",
    "    # Get movies rated by user\n",
    "    user_ratings = user_item_matrix.loc[user_id]\n",
    "    user_movies = user_ratings[user_ratings > 0]\n",
    "    \n",
    "    if len(user_movies) == 0:\n",
    "        print(f\"❌ User {user_id} has no ratings\")\n",
    "        return pd.DataFrame()\n",
    "    \n",
    "    # Calculate item-based recommendations\n",
    "    recommendations = {}\n",
    "    \n",
    "    for movie_id, rating in user_movies.items():\n",
    "        # Get similar movies\n",
    "        similar_movies = item_similarity_df[movie_id].sort_values(ascending=False)[1:]  # Exclude self\n",
    "        similar_movies = similar_movies[similar_movies > min_similarity]\n",
    "        \n",
    "        for similar_movie, similarity in similar_movies.head(10).items():\n",
    "            if similar_movie not in user_movies.index:  # Not seen by user\n",
    "                if similar_movie not in recommendations:\n",
    "                    recommendations[similar_movie] = []\n",
    "                recommendations[similar_movie].append(rating * similarity)\n",
    "    \n",
    "    # Calculate final scores\n",
    "    final_recommendations = {}\n",
    "    for movie_id, weighted_ratings in recommendations.items():\n",
    "        final_recommendations[movie_id] = np.mean(weighted_ratings)\n",
    "    \n",
    "    # Sort and get top N\n",
    "    sorted_recs = sorted(final_recommendations.items(), key=lambda x: x[1], reverse=True)[:n]\n",
    "    \n",
    "    # Get movie titles\n",
    "    movie_ids = [rec[0] for rec in sorted_recs]\n",
    "    result_df = movies[movies['movieId'].isin(movie_ids)].copy()\n",
    "    result_df['predicted_rating'] = result_df['movieId'].map(dict(sorted_recs))\n",
    "    \n",
    "    return result_df[['title', 'genres', 'predicted_rating']].sort_values('predicted_rating', ascending=False)"
   ]
  },
  {
   "cell_type": "code",
   "execution_count": 17,
   "id": "7041a90c",
   "metadata": {
    "execution": {
     "iopub.execute_input": "2025-07-24T19:58:26.974453Z",
     "iopub.status.busy": "2025-07-24T19:58:26.974094Z",
     "iopub.status.idle": "2025-07-24T19:58:27.034811Z",
     "shell.execute_reply": "2025-07-24T19:58:27.033619Z"
    },
    "papermill": {
     "duration": 0.069451,
     "end_time": "2025-07-24T19:58:27.036504",
     "exception": false,
     "start_time": "2025-07-24T19:58:26.967053",
     "status": "completed"
    },
    "tags": []
   },
   "outputs": [
    {
     "name": "stdout",
     "output_type": "stream",
     "text": [
      "\n",
      "🎯 Item-Based Recommendations for User 1:\n",
      "                                                  title  \\\n",
      "108                                   Braveheart (1995)   \n",
      "1942                  Back to the Future Part II (1989)   \n",
      "585                   Terminator 2: Judgment Day (1991)   \n",
      "592                                    Pinocchio (1940)   \n",
      "589                    Silence of the Lambs, The (1991)   \n",
      "1178  Star Wars: Episode V - The Empire Strikes Back...   \n",
      "1196                                       Alien (1979)   \n",
      "1019                         Alice in Wonderland (1951)   \n",
      "2018                                   Peter Pan (1953)   \n",
      "1195                                  GoodFellas (1990)   \n",
      "\n",
      "                                    genres  predicted_rating  \n",
      "108                       Action|Drama|War          3.270914  \n",
      "1942                         Comedy|Sci-Fi          3.113642  \n",
      "585                 Action|Sci-Fi|Thriller          2.848464  \n",
      "592                   Animation|Children's          2.779779  \n",
      "589                         Drama|Thriller          2.774079  \n",
      "1178     Action|Adventure|Drama|Sci-Fi|War          2.750927  \n",
      "1196         Action|Horror|Sci-Fi|Thriller          2.735459  \n",
      "1019          Animation|Children's|Musical          2.723175  \n",
      "2018  Animation|Children's|Fantasy|Musical          2.710065  \n",
      "1195                           Crime|Drama          2.702463  \n"
     ]
    }
   ],
   "source": [
    "# Test item-based recommendations\n",
    "print(f\"\\n🎯 Item-Based Recommendations for User {test_user}:\")\n",
    "item_recs = get_item_based_recommendations(test_user)\n",
    "print(item_recs)"
   ]
  },
  {
   "cell_type": "markdown",
   "id": "419137fe",
   "metadata": {
    "papermill": {
     "duration": 0.006042,
     "end_time": "2025-07-24T19:58:27.048830",
     "exception": false,
     "start_time": "2025-07-24T19:58:27.042788",
     "status": "completed"
    },
    "tags": []
   },
   "source": [
    "# **Content-Based Filtering**"
   ]
  },
  {
   "cell_type": "code",
   "execution_count": 18,
   "id": "c76f942f",
   "metadata": {
    "execution": {
     "iopub.execute_input": "2025-07-24T19:58:27.062921Z",
     "iopub.status.busy": "2025-07-24T19:58:27.062592Z",
     "iopub.status.idle": "2025-07-24T19:58:27.097016Z",
     "shell.execute_reply": "2025-07-24T19:58:27.095902Z"
    },
    "papermill": {
     "duration": 0.043378,
     "end_time": "2025-07-24T19:58:27.098721",
     "exception": false,
     "start_time": "2025-07-24T19:58:27.055343",
     "status": "completed"
    },
    "tags": []
   },
   "outputs": [
    {
     "name": "stdout",
     "output_type": "stream",
     "text": [
      "\n",
      "🎯 Content-Based Recommendations for 'Toy Story (1995)':\n",
      "                                               title  \\\n",
      "2285                       Rugrats Movie, The (1998)   \n",
      "3685  Adventures of Rocky and Bullwinkle, The (2000)   \n",
      "3682                              Chicken Run (2000)   \n",
      "3542                           Saludos Amigos (1943)   \n",
      "2073      American Tail: Fievel Goes West, An (1991)   \n",
      "2072                        American Tail, An (1986)   \n",
      "1050          Aladdin and the King of Thieves (1996)   \n",
      "0                                   Toy Story (1995)   \n",
      "2286                            Bug's Life, A (1998)   \n",
      "2807                               Thumbelina (1994)   \n",
      "\n",
      "                           genres  \n",
      "2285  Animation|Children's|Comedy  \n",
      "3685  Animation|Children's|Comedy  \n",
      "3682  Animation|Children's|Comedy  \n",
      "3542  Animation|Children's|Comedy  \n",
      "2073  Animation|Children's|Comedy  \n",
      "2072  Animation|Children's|Comedy  \n",
      "1050  Animation|Children's|Comedy  \n",
      "0     Animation|Children's|Comedy  \n",
      "2286  Animation|Children's|Comedy  \n",
      "2807         Animation|Children's  \n"
     ]
    }
   ],
   "source": [
    "# Use top-N popular movies as before\n",
    "tfidf = TfidfVectorizer(token_pattern=r'[^|]+')\n",
    "tfidf_matrix = tfidf.fit_transform(movies['genres'])\n",
    "\n",
    "# Fit nearest neighbors model\n",
    "nn = NearestNeighbors(metric='cosine', algorithm='brute')\n",
    "nn.fit(tfidf_matrix)\n",
    "\n",
    "# Function to recommend\n",
    "def get_content_recommendations(title, n=10):\n",
    "    idx = movies[movies['title'] == title].index[0]\n",
    "    distances, indices = nn.kneighbors(tfidf_matrix[idx], n_neighbors=n+1)\n",
    "    rec_indices = indices.flatten()[1:]\n",
    "    return movies[['title', 'genres']].iloc[rec_indices]\n",
    "\n",
    "# Example\n",
    "print(\"\\n🎯 Content-Based Recommendations for 'Toy Story (1995)':\")\n",
    "print(get_content_recommendations('Toy Story (1995)'))"
   ]
  },
  {
   "cell_type": "markdown",
   "id": "ed973322",
   "metadata": {
    "papermill": {
     "duration": 0.006968,
     "end_time": "2025-07-24T19:58:27.112764",
     "exception": false,
     "start_time": "2025-07-24T19:58:27.105796",
     "status": "completed"
    },
    "tags": []
   },
   "source": [
    "# **Matrix Factorization Comparison**"
   ]
  },
  {
   "cell_type": "code",
   "execution_count": 19,
   "id": "90d84e19",
   "metadata": {
    "execution": {
     "iopub.execute_input": "2025-07-24T19:58:27.126775Z",
     "iopub.status.busy": "2025-07-24T19:58:27.126468Z",
     "iopub.status.idle": "2025-07-24T20:07:59.536067Z",
     "shell.execute_reply": "2025-07-24T20:07:59.534812Z"
    },
    "papermill": {
     "duration": 572.418974,
     "end_time": "2025-07-24T20:07:59.537947",
     "exception": false,
     "start_time": "2025-07-24T19:58:27.118973",
     "status": "completed"
    },
    "tags": []
   },
   "outputs": [
    {
     "name": "stdout",
     "output_type": "stream",
     "text": [
      "\n",
      "📈 Model Performance Comparison:\n",
      "\n",
      "Training SVD...\n",
      "SVD - RMSE: 0.8730, MAE: 0.6849\n",
      "\n",
      "Training SVD++...\n",
      "SVD++ - RMSE: 0.8630, MAE: 0.6733\n",
      "\n",
      "Training NMF...\n",
      "NMF - RMSE: 0.9169, MAE: 0.7239\n"
     ]
    }
   ],
   "source": [
    "# Prepare data for Surprise\n",
    "reader = Reader(rating_scale=(0.5, 5.0))\n",
    "data = Dataset.load_from_df(working_ratings[['userId', 'movieId', 'rating']], reader)\n",
    "\n",
    "# Split data for evaluation\n",
    "trainset, testset = train_test_split(data, test_size=0.2, random_state=42)\n",
    "\n",
    "# Define models to compare\n",
    "models = {\n",
    "    'SVD': SVD(random_state=42),\n",
    "    'SVD++': SVDpp(random_state=42),\n",
    "    'NMF': SurpriseNMF(random_state=42)\n",
    "}\n",
    "\n",
    "# Train and evaluate models\n",
    "model_results = {}\n",
    "trained_models = {}\n",
    "\n",
    "print(\"\\n📈 Model Performance Comparison:\")\n",
    "for name, model in models.items():\n",
    "    print(f\"\\nTraining {name}...\")\n",
    "    model.fit(trainset)\n",
    "    predictions = model.test(testset)\n",
    "    \n",
    "    rmse = accuracy.rmse(predictions, verbose=False)\n",
    "    mae = accuracy.mae(predictions, verbose=False)\n",
    "    \n",
    "    model_results[name] = {'RMSE': rmse, 'MAE': mae}\n",
    "    trained_models[name] = model\n",
    "    \n",
    "    print(f\"{name} - RMSE: {rmse:.4f}, MAE: {mae:.4f}\")"
   ]
  },
  {
   "cell_type": "markdown",
   "id": "36d470ee",
   "metadata": {
    "papermill": {
     "duration": 0.006489,
     "end_time": "2025-07-24T20:07:59.608233",
     "exception": false,
     "start_time": "2025-07-24T20:07:59.601744",
     "status": "completed"
    },
    "tags": []
   },
   "source": [
    "# **Precision@K Evaluation Method**"
   ]
  },
  {
   "cell_type": "code",
   "execution_count": 20,
   "id": "a95f6c50",
   "metadata": {
    "execution": {
     "iopub.execute_input": "2025-07-24T20:07:59.623991Z",
     "iopub.status.busy": "2025-07-24T20:07:59.623699Z",
     "iopub.status.idle": "2025-07-24T20:07:59.630040Z",
     "shell.execute_reply": "2025-07-24T20:07:59.628997Z"
    },
    "papermill": {
     "duration": 0.016827,
     "end_time": "2025-07-24T20:07:59.631587",
     "exception": false,
     "start_time": "2025-07-24T20:07:59.614760",
     "status": "completed"
    },
    "tags": []
   },
   "outputs": [],
   "source": [
    "def precision_at_k(predictions, k=10, threshold=3.5):\n",
    "    \"\"\"Calculate Precision@K\"\"\"\n",
    "    user_est_true = defaultdict(list)\n",
    "    for uid, _, true_r, est, _ in predictions:\n",
    "        user_est_true[uid].append((est, true_r))\n",
    "    \n",
    "    precisions = {}\n",
    "    for uid, user_ratings in user_est_true.items():\n",
    "        # Sort by estimated rating\n",
    "        user_ratings.sort(key=lambda x: x[0], reverse=True)\n",
    "        \n",
    "        # Get top K recommendations\n",
    "        top_k = user_ratings[:k]\n",
    "        \n",
    "        # Count relevant items (rating >= threshold)\n",
    "        relevant_recommended = sum(1 for (est, true_r) in top_k if true_r >= threshold)\n",
    "        \n",
    "        # Precision@K = relevant_recommended / k\n",
    "        precisions[uid] = relevant_recommended / k if k > 0 else 0\n",
    "    \n",
    "    return precisions"
   ]
  },
  {
   "cell_type": "code",
   "execution_count": 21,
   "id": "a42e9bab",
   "metadata": {
    "execution": {
     "iopub.execute_input": "2025-07-24T20:07:59.647980Z",
     "iopub.status.busy": "2025-07-24T20:07:59.647589Z",
     "iopub.status.idle": "2025-07-24T20:07:59.655188Z",
     "shell.execute_reply": "2025-07-24T20:07:59.654058Z"
    },
    "papermill": {
     "duration": 0.017547,
     "end_time": "2025-07-24T20:07:59.656956",
     "exception": false,
     "start_time": "2025-07-24T20:07:59.639409",
     "status": "completed"
    },
    "tags": []
   },
   "outputs": [],
   "source": [
    "def recall_at_k(predictions, k=10, threshold=3.5):\n",
    "    \"\"\"Calculate Recall@K\"\"\"\n",
    "    user_est_true = defaultdict(list)\n",
    "    for uid, _, true_r, est, _ in predictions:\n",
    "        user_est_true[uid].append((est, true_r))\n",
    "    \n",
    "    recalls = {}\n",
    "    for uid, user_ratings in user_est_true.items():\n",
    "        # Sort by estimated rating\n",
    "        user_ratings.sort(key=lambda x: x[0], reverse=True)\n",
    "        \n",
    "        # Get top K recommendations\n",
    "        top_k = user_ratings[:k]\n",
    "        \n",
    "        # Count total relevant items for this user\n",
    "        total_relevant = sum(1 for (est, true_r) in user_ratings if true_r >= threshold)\n",
    "        \n",
    "        if total_relevant == 0:\n",
    "            recalls[uid] = 0\n",
    "        else:\n",
    "            # Count relevant items in top K\n",
    "            relevant_recommended = sum(1 for (est, true_r) in top_k if true_r >= threshold)\n",
    "            recalls[uid] = relevant_recommended / total_relevant\n",
    "    \n",
    "    return recalls"
   ]
  },
  {
   "cell_type": "code",
   "execution_count": 22,
   "id": "e219b947",
   "metadata": {
    "execution": {
     "iopub.execute_input": "2025-07-24T20:07:59.671830Z",
     "iopub.status.busy": "2025-07-24T20:07:59.671543Z",
     "iopub.status.idle": "2025-07-24T20:07:59.678489Z",
     "shell.execute_reply": "2025-07-24T20:07:59.677540Z"
    },
    "papermill": {
     "duration": 0.016196,
     "end_time": "2025-07-24T20:07:59.679954",
     "exception": false,
     "start_time": "2025-07-24T20:07:59.663758",
     "status": "completed"
    },
    "tags": []
   },
   "outputs": [],
   "source": [
    "def ndcg_at_k(predictions, k=10):\n",
    "    \"\"\"Calculate NDCG@K\"\"\"\n",
    "    user_est_true = defaultdict(list)\n",
    "    for uid, _, true_r, est, _ in predictions:\n",
    "        user_est_true[uid].append((est, true_r))\n",
    "    \n",
    "    ndcgs = {}\n",
    "    for uid, user_ratings in user_est_true.items():\n",
    "        # Sort by estimated rating\n",
    "        user_ratings.sort(key=lambda x: x[0], reverse=True)\n",
    "        \n",
    "        # Get top K\n",
    "        top_k = user_ratings[:k]\n",
    "        \n",
    "        # Calculate DCG\n",
    "        dcg = sum((2**rel - 1) / np.log2(i + 2) for i, (est, rel) in enumerate(top_k))\n",
    "        \n",
    "        # Calculate IDCG (ideal DCG)\n",
    "        ideal_ratings = sorted([true_r for (est, true_r) in user_ratings], reverse=True)[:k]\n",
    "        idcg = sum((2**rel - 1) / np.log2(i + 2) for i, rel in enumerate(ideal_ratings))\n",
    "        \n",
    "        # NDCG\n",
    "        ndcgs[uid] = dcg / idcg if idcg > 0 else 0\n",
    "    \n",
    "    return ndcgs"
   ]
  },
  {
   "cell_type": "code",
   "execution_count": 23,
   "id": "abe911d4",
   "metadata": {
    "execution": {
     "iopub.execute_input": "2025-07-24T20:07:59.695351Z",
     "iopub.status.busy": "2025-07-24T20:07:59.694540Z",
     "iopub.status.idle": "2025-07-24T20:09:16.459179Z",
     "shell.execute_reply": "2025-07-24T20:09:16.458060Z"
    },
    "papermill": {
     "duration": 76.773664,
     "end_time": "2025-07-24T20:09:16.460642",
     "exception": false,
     "start_time": "2025-07-24T20:07:59.686978",
     "status": "completed"
    },
    "tags": []
   },
   "outputs": [
    {
     "name": "stdout",
     "output_type": "stream",
     "text": [
      "K= 5 | Precision: 0.7939 | Recall: 0.4397 | NDCG: 0.8065\n",
      "K=10 | Precision: 0.6860 | Recall: 0.6378 | NDCG: 0.8356\n",
      "K=20 | Precision: 0.5337 | Recall: 0.8061 | NDCG: 0.8678\n"
     ]
    }
   ],
   "source": [
    "# Evaluate best model (SVD++) with Precision@K\n",
    "best_model = trained_models['SVD++']\n",
    "predictions = best_model.test(testset)\n",
    "\n",
    "for k in [5, 10, 20]:\n",
    "    precisions = precision_at_k(predictions, k=k)\n",
    "    recalls = recall_at_k(predictions, k=k)\n",
    "    ndcgs = ndcg_at_k(predictions, k=k)\n",
    "    \n",
    "    avg_precision = np.mean(list(precisions.values()))\n",
    "    avg_recall = np.mean(list(recalls.values()))\n",
    "    avg_ndcg = np.mean(list(ndcgs.values()))\n",
    "    \n",
    "    print(f\"K={k:2d} | Precision: {avg_precision:.4f} | Recall: {avg_recall:.4f} | NDCG: {avg_ndcg:.4f}\")"
   ]
  },
  {
   "cell_type": "markdown",
   "id": "0cf6df81",
   "metadata": {
    "papermill": {
     "duration": 0.006509,
     "end_time": "2025-07-24T20:09:16.474162",
     "exception": false,
     "start_time": "2025-07-24T20:09:16.467653",
     "status": "completed"
    },
    "tags": []
   },
   "source": [
    "# **Hybrid Recommendation**"
   ]
  },
  {
   "cell_type": "code",
   "execution_count": 24,
   "id": "e6dee4ff",
   "metadata": {
    "execution": {
     "iopub.execute_input": "2025-07-24T20:09:16.489107Z",
     "iopub.status.busy": "2025-07-24T20:09:16.488776Z",
     "iopub.status.idle": "2025-07-24T20:09:16.501351Z",
     "shell.execute_reply": "2025-07-24T20:09:16.500379Z"
    },
    "papermill": {
     "duration": 0.022208,
     "end_time": "2025-07-24T20:09:16.502936",
     "exception": false,
     "start_time": "2025-07-24T20:09:16.480728",
     "status": "completed"
    },
    "tags": []
   },
   "outputs": [],
   "source": [
    "indices = pd.Series(movies.index, index=movies['title']).drop_duplicates()\n",
    "\n",
    "def hybrid_recommendations(user_id, movie_title=None, n=10, weights={'collaborative': 0.6, 'content': 0.4}):\n",
    "    \"\"\"Enhanced hybrid recommendations combining multiple approaches\"\"\"\n",
    "    recommendations = []\n",
    "    \n",
    "    # 1. User-based collaborative filtering\n",
    "    try:\n",
    "        user_collab = get_user_based_recommendations(user_id, n=n*2)\n",
    "        if not user_collab.empty:\n",
    "            user_collab['method'] = 'user_collaborative'\n",
    "            user_collab['score'] = user_collab['predicted_rating']\n",
    "            recommendations.append(user_collab)\n",
    "    except:\n",
    "        pass\n",
    "    \n",
    "    # 2. Item-based collaborative filtering\n",
    "    try:\n",
    "        item_collab = get_item_based_recommendations(user_id, n=n*2)\n",
    "        if not item_collab.empty:\n",
    "            item_collab['method'] = 'item_collaborative'\n",
    "            item_collab['score'] = item_collab['predicted_rating']\n",
    "            recommendations.append(item_collab)\n",
    "    except:\n",
    "        pass\n",
    "    \n",
    "    # 3. Matrix factorization (SVD++)\n",
    "    try:\n",
    "        user_rated = working_ratings[working_ratings['userId'] == user_id]['movieId'].tolist()\n",
    "        all_movies = working_ratings['movieId'].unique()\n",
    "        movies_to_predict = [m for m in all_movies if m not in user_rated][:n*3]  # Limit for efficiency\n",
    "        \n",
    "        svd_predictions = [best_model.predict(user_id, movie_id) for movie_id in movies_to_predict]\n",
    "        svd_predictions.sort(key=lambda x: x.est, reverse=True)\n",
    "        \n",
    "        svd_movie_ids = [pred.iid for pred in svd_predictions[:n*2]]\n",
    "        svd_recs = movies[movies['movieId'].isin(svd_movie_ids)].copy()\n",
    "        svd_recs['method'] = 'matrix_factorization'\n",
    "        svd_recs['score'] = svd_recs['movieId'].map({pred.iid: pred.est for pred in svd_predictions})\n",
    "        recommendations.append(svd_recs[['title', 'genres', 'method', 'score']])\n",
    "    except:\n",
    "        pass\n",
    "    \n",
    "    # 4. Content-based (if movie title provided)\n",
    "    if movie_title and movie_title in indices:\n",
    "        try:\n",
    "            content_recs = get_content_recommendations(movie_title, n=n)\n",
    "            if isinstance(content_recs, pd.DataFrame) and not content_recs.empty:\n",
    "                content_recs['method'] = 'content_based'\n",
    "                content_recs['score'] = 4.0  # Default score for content-based\n",
    "                recommendations.append(content_recs[['title', 'genres', 'method', 'score']])\n",
    "        except:\n",
    "            pass\n",
    "    \n",
    "    # Combine all recommendations\n",
    "    if not recommendations:\n",
    "        return \"❌ No recommendations could be generated\"\n",
    "    \n",
    "    combined_recs = pd.concat(recommendations, ignore_index=True)\n",
    "    \n",
    "    # Remove duplicates by keeping highest scoring version\n",
    "    combined_recs = combined_recs.sort_values('score', ascending=False).drop_duplicates('title', keep='first')\n",
    "    \n",
    "    # Calculate final weighted score (simple average for now)\n",
    "    final_recs = combined_recs.groupby('title').agg({\n",
    "        'genres': 'first',\n",
    "        'score': 'mean',\n",
    "        'method': lambda x: ', '.join(x.unique())\n",
    "    }).reset_index()\n",
    "    \n",
    "    return final_recs.sort_values('score', ascending=False).head(n)"
   ]
  },
  {
   "cell_type": "code",
   "execution_count": 25,
   "id": "64907f52",
   "metadata": {
    "execution": {
     "iopub.execute_input": "2025-07-24T20:09:16.518772Z",
     "iopub.status.busy": "2025-07-24T20:09:16.517785Z",
     "iopub.status.idle": "2025-07-24T20:09:16.633380Z",
     "shell.execute_reply": "2025-07-24T20:09:16.626642Z"
    },
    "papermill": {
     "duration": 0.126113,
     "end_time": "2025-07-24T20:09:16.636181",
     "exception": false,
     "start_time": "2025-07-24T20:09:16.510068",
     "status": "completed"
    },
    "tags": []
   },
   "outputs": [
    {
     "name": "stdout",
     "output_type": "stream",
     "text": [
      "\n",
      "🎬 Hybrid Recommendations for User 1:\n",
      "                                       title                genres     score  \\\n",
      "28                         GoodFellas (1990)           Crime|Drama  4.358106   \n",
      "19     Day the Earth Stood Still, The (1951)          Drama|Sci-Fi  4.343721   \n",
      "30          Hunt for Red October, The (1990)       Action|Thriller  4.333865   \n",
      "67                            Yojimbo (1961)  Comedy|Drama|Western  4.330007   \n",
      "23                    Few Good Men, A (1992)           Crime|Drama  4.305021   \n",
      "27                          Gladiator (2000)          Action|Drama  4.290161   \n",
      "34                     Mister Roberts (1955)      Comedy|Drama|War  4.262183   \n",
      "53                  Stand and Deliver (1987)                 Drama  4.214750   \n",
      "64                  Untouchables, The (1987)    Action|Crime|Drama  4.198777   \n",
      "45  Shall We Dance? (Shall We Dansu?) (1996)                Comedy  4.164543   \n",
      "\n",
      "                  method  \n",
      "28  matrix_factorization  \n",
      "19  matrix_factorization  \n",
      "30  matrix_factorization  \n",
      "67  matrix_factorization  \n",
      "23  matrix_factorization  \n",
      "27  matrix_factorization  \n",
      "34  matrix_factorization  \n",
      "53  matrix_factorization  \n",
      "64  matrix_factorization  \n",
      "45  matrix_factorization  \n"
     ]
    }
   ],
   "source": [
    "# Test hybrid recommendations\n",
    "print(f\"\\n🎬 Hybrid Recommendations for User {test_user}:\")\n",
    "hybrid_recs = hybrid_recommendations(user_id=test_user, movie_title='Toy Story (1995)')\n",
    "print(hybrid_recs)"
   ]
  },
  {
   "cell_type": "code",
   "execution_count": 26,
   "id": "15398b89",
   "metadata": {
    "execution": {
     "iopub.execute_input": "2025-07-24T20:09:16.653570Z",
     "iopub.status.busy": "2025-07-24T20:09:16.653286Z",
     "iopub.status.idle": "2025-07-24T20:09:16.747651Z",
     "shell.execute_reply": "2025-07-24T20:09:16.746638Z"
    },
    "papermill": {
     "duration": 0.104094,
     "end_time": "2025-07-24T20:09:16.749283",
     "exception": false,
     "start_time": "2025-07-24T20:09:16.645189",
     "status": "completed"
    },
    "tags": []
   },
   "outputs": [
    {
     "name": "stdout",
     "output_type": "stream",
     "text": [
      "\n",
      "🎬 Hybrid Recommendations for User 1 (without seed movie):\n",
      "                                       title                genres     score  \\\n",
      "22                         GoodFellas (1990)           Crime|Drama  4.358106   \n",
      "13     Day the Earth Stood Still, The (1951)          Drama|Sci-Fi  4.343721   \n",
      "24          Hunt for Red October, The (1990)       Action|Thriller  4.333865   \n",
      "57                            Yojimbo (1961)  Comedy|Drama|Western  4.330007   \n",
      "17                    Few Good Men, A (1992)           Crime|Drama  4.305021   \n",
      "21                          Gladiator (2000)          Action|Drama  4.290161   \n",
      "28                     Mister Roberts (1955)      Comedy|Drama|War  4.262183   \n",
      "45                  Stand and Deliver (1987)                 Drama  4.214750   \n",
      "54                  Untouchables, The (1987)    Action|Crime|Drama  4.198777   \n",
      "37  Shall We Dance? (Shall We Dansu?) (1996)                Comedy  4.164543   \n",
      "\n",
      "                  method  \n",
      "22  matrix_factorization  \n",
      "13  matrix_factorization  \n",
      "24  matrix_factorization  \n",
      "57  matrix_factorization  \n",
      "17  matrix_factorization  \n",
      "21  matrix_factorization  \n",
      "28  matrix_factorization  \n",
      "45  matrix_factorization  \n",
      "54  matrix_factorization  \n",
      "37  matrix_factorization  \n"
     ]
    }
   ],
   "source": [
    "print(f\"\\n🎬 Hybrid Recommendations for User {test_user} (without seed movie):\")\n",
    "hybrid_recs_no_seed = hybrid_recommendations(user_id=test_user)\n",
    "print(hybrid_recs_no_seed)"
   ]
  },
  {
   "cell_type": "markdown",
   "id": "bb641165",
   "metadata": {
    "papermill": {
     "duration": 0.006842,
     "end_time": "2025-07-24T20:09:16.763299",
     "exception": false,
     "start_time": "2025-07-24T20:09:16.756457",
     "status": "completed"
    },
    "tags": []
   },
   "source": [
    "# **Cold Start Handling**"
   ]
  },
  {
   "cell_type": "code",
   "execution_count": 27,
   "id": "174c656d",
   "metadata": {
    "execution": {
     "iopub.execute_input": "2025-07-24T20:09:16.778591Z",
     "iopub.status.busy": "2025-07-24T20:09:16.778168Z",
     "iopub.status.idle": "2025-07-24T20:09:16.784640Z",
     "shell.execute_reply": "2025-07-24T20:09:16.783635Z"
    },
    "papermill": {
     "duration": 0.01582,
     "end_time": "2025-07-24T20:09:16.785989",
     "exception": false,
     "start_time": "2025-07-24T20:09:16.770169",
     "status": "completed"
    },
    "tags": []
   },
   "outputs": [],
   "source": [
    "def handle_cold_start_user(n=10):\n",
    "    \"\"\"Recommend popular movies for new users\"\"\"\n",
    "    popular_movies = working_ratings.groupby('movieId').agg({\n",
    "        'rating': ['count', 'mean']\n",
    "    }).reset_index()\n",
    "    popular_movies.columns = ['movieId', 'rating_count', 'avg_rating']\n",
    "    \n",
    "    # Filter movies with enough ratings and high average\n",
    "    popular_movies = popular_movies[\n",
    "        (popular_movies['rating_count'] >= 50) & \n",
    "        (popular_movies['avg_rating'] >= 4.0)\n",
    "    ].sort_values(['avg_rating', 'rating_count'], ascending=False)\n",
    "    \n",
    "    result = movies[movies['movieId'].isin(popular_movies['movieId'].head(n))].copy()\n",
    "    result = result.merge(popular_movies[['movieId', 'avg_rating', 'rating_count']], on='movieId')\n",
    "    \n",
    "    return result[['title', 'genres', 'avg_rating', 'rating_count']].head(n)"
   ]
  },
  {
   "cell_type": "code",
   "execution_count": 28,
   "id": "d55729c5",
   "metadata": {
    "execution": {
     "iopub.execute_input": "2025-07-24T20:09:16.801536Z",
     "iopub.status.busy": "2025-07-24T20:09:16.801176Z",
     "iopub.status.idle": "2025-07-24T20:09:16.855384Z",
     "shell.execute_reply": "2025-07-24T20:09:16.854430Z"
    },
    "papermill": {
     "duration": 0.063948,
     "end_time": "2025-07-24T20:09:16.857076",
     "exception": false,
     "start_time": "2025-07-24T20:09:16.793128",
     "status": "completed"
    },
    "tags": []
   },
   "outputs": [
    {
     "name": "stdout",
     "output_type": "stream",
     "text": [
      "\n",
      "🔥 Cold Start - Popular Movies for New Users:\n",
      "                                               title  \\\n",
      "0                         Usual Suspects, The (1995)   \n",
      "1                   Shawshank Redemption, The (1994)   \n",
      "2                            Schindler's List (1993)   \n",
      "3                              Close Shave, A (1995)   \n",
      "4                              Godfather, The (1972)   \n",
      "5      Sunset Blvd. (a.k.a. Sunset Boulevard) (1950)   \n",
      "6                         Wrong Trousers, The (1993)   \n",
      "7                     Raiders of the Lost Ark (1981)   \n",
      "8  Seven Samurai (The Magnificent Seven) (Shichin...   \n",
      "9                                     Sanjuro (1962)   \n",
      "\n",
      "                      genres  avg_rating  rating_count  \n",
      "0             Crime|Thriller    4.517106          1783  \n",
      "1                      Drama    4.554558          2227  \n",
      "2                  Drama|War    4.510417          2304  \n",
      "3  Animation|Comedy|Thriller    4.520548           657  \n",
      "4         Action|Crime|Drama    4.524966          2223  \n",
      "5                  Film-Noir    4.491489           470  \n",
      "6           Animation|Comedy    4.507937           882  \n",
      "7           Action|Adventure    4.477725          2514  \n",
      "8               Action|Drama    4.560510           628  \n",
      "9           Action|Adventure    4.608696            69  \n"
     ]
    }
   ],
   "source": [
    "def handle_cold_start_movie(movie_title, n=10):\n",
    "    \"\"\"Recommend similar movies for new movies using content\"\"\"\n",
    "    return get_content_recommendations(movie_title, n)\n",
    "\n",
    "print(\"\\n🔥 Cold Start - Popular Movies for New Users:\")\n",
    "cold_start_recs = handle_cold_start_user()\n",
    "print(cold_start_recs)"
   ]
  },
  {
   "cell_type": "markdown",
   "id": "3c94e3b1",
   "metadata": {
    "papermill": {
     "duration": 0.007041,
     "end_time": "2025-07-24T20:09:16.871342",
     "exception": false,
     "start_time": "2025-07-24T20:09:16.864301",
     "status": "completed"
    },
    "tags": []
   },
   "source": [
    "# **Saving Models**"
   ]
  },
  {
   "cell_type": "code",
   "execution_count": 29,
   "id": "923f8adb",
   "metadata": {
    "execution": {
     "iopub.execute_input": "2025-07-24T20:09:16.886949Z",
     "iopub.status.busy": "2025-07-24T20:09:16.886647Z",
     "iopub.status.idle": "2025-07-24T20:09:26.977472Z",
     "shell.execute_reply": "2025-07-24T20:09:26.976632Z"
    },
    "papermill": {
     "duration": 10.100634,
     "end_time": "2025-07-24T20:09:26.978990",
     "exception": false,
     "start_time": "2025-07-24T20:09:16.878356",
     "status": "completed"
    },
    "tags": []
   },
   "outputs": [
    {
     "name": "stdout",
     "output_type": "stream",
     "text": [
      "✅ All models and data saved successfully!\n"
     ]
    }
   ],
   "source": [
    "# Save original models\n",
    "pickle.dump(best_model, open(\"svdpp_model.pkl\", \"wb\"))\n",
    "joblib.dump(tfidf, \"tfidf_vectorizer.pkl\")\n",
    "save_npz(\"tfidf_matrix.npz\", tfidf_matrix)\n",
    "joblib.dump(nn, \"nn_model.pkl\")\n",
    "\n",
    "# Save new models and matrices\n",
    "joblib.dump(user_item_matrix, \"user_item_matrix.pkl\")\n",
    "joblib.dump(user_similarity_df, \"user_similarity_matrix.pkl\")\n",
    "joblib.dump(item_similarity_df, \"item_similarity_matrix.pkl\")\n",
    "joblib.dump(trained_models, \"all_trained_models.pkl\")\n",
    "joblib.dump(movies, \"movies_df.pkl\")\n",
    "joblib.dump(indices, \"title_indices.pkl\")\n",
    "\n",
    "# Save evaluation results\n",
    "joblib.dump(model_results, \"model_evaluation_results.pkl\")\n",
    "\n",
    "print(\"✅ All models and data saved successfully!\")"
   ]
  },
  {
   "cell_type": "markdown",
   "id": "78def981",
   "metadata": {
    "papermill": {
     "duration": 0.00699,
     "end_time": "2025-07-24T20:09:26.993575",
     "exception": false,
     "start_time": "2025-07-24T20:09:26.986585",
     "status": "completed"
    },
    "tags": []
   },
   "source": [
    "# **Summary Report**"
   ]
  },
  {
   "cell_type": "code",
   "execution_count": 30,
   "id": "4d78ff44",
   "metadata": {
    "execution": {
     "iopub.execute_input": "2025-07-24T20:09:27.010421Z",
     "iopub.status.busy": "2025-07-24T20:09:27.009701Z",
     "iopub.status.idle": "2025-07-24T20:09:27.042251Z",
     "shell.execute_reply": "2025-07-24T20:09:27.041385Z"
    },
    "papermill": {
     "duration": 0.042429,
     "end_time": "2025-07-24T20:09:27.043768",
     "exception": false,
     "start_time": "2025-07-24T20:09:27.001339",
     "status": "completed"
    },
    "tags": []
   },
   "outputs": [
    {
     "name": "stdout",
     "output_type": "stream",
     "text": [
      "\n",
      "============================================================\n",
      "🎬 MOVIE RECOMMENDATION SYSTEM - SUMMARY REPORT\n",
      "============================================================\n",
      "\n",
      "📊 Dataset Statistics:\n",
      "   • Total Ratings: 1,000,209\n",
      "   • Total Users: 6,040\n",
      "   • Total Movies: 3,706\n",
      "   • Sparsity: 95.53%\n",
      "\n",
      "🔧 Implemented Methods:\n",
      "   ✅ User-Item Matrix Construction\n",
      "   ✅ User-Based Collaborative Filtering\n",
      "   ✅ Item-Based Collaborative Filtering\n",
      "   ✅ Content-Based Filtering\n",
      "   ✅ Matrix Factorization (SVD, SVD++, NMF)\n",
      "   ✅ Hybrid Recommendations\n",
      "   ✅ Cold Start Handling\n",
      "\n",
      "📈 Evaluation Metrics:\n",
      "   ✅ RMSE & MAE\n",
      "   ✅ Precision@K\n",
      "   ✅ Recall@K\n",
      "   ✅ NDCG@K\n",
      "\n",
      "🏆 Best Model Performance:\n",
      "   • SVD++: RMSE = 0.8630\n",
      "\n",
      "============================================================\n",
      "🎉 ENHANCED RECOMMENDATION SYSTEM COMPLETE!\n",
      "============================================================\n"
     ]
    }
   ],
   "source": [
    "print(\"\\n\" + \"=\"*60)\n",
    "print(\"🎬 MOVIE RECOMMENDATION SYSTEM - SUMMARY REPORT\")\n",
    "print(\"=\"*60)\n",
    "\n",
    "print(f\"\\n📊 Dataset Statistics:\")\n",
    "print(f\"   • Total Ratings: {len(working_ratings):,}\")\n",
    "print(f\"   • Total Users: {working_ratings['userId'].nunique():,}\")\n",
    "print(f\"   • Total Movies: {working_ratings['movieId'].nunique():,}\")\n",
    "print(f\"   • Sparsity: {(1 - working_ratings.shape[0]/(working_ratings['userId'].nunique() * working_ratings['movieId'].nunique()))*100:.2f}%\")\n",
    "\n",
    "print(f\"\\n🔧 Implemented Methods:\")\n",
    "print(f\"   ✅ User-Item Matrix Construction\")\n",
    "print(f\"   ✅ User-Based Collaborative Filtering\")\n",
    "print(f\"   ✅ Item-Based Collaborative Filtering\") \n",
    "print(f\"   ✅ Content-Based Filtering\")\n",
    "print(f\"   ✅ Matrix Factorization (SVD, SVD++, NMF)\")\n",
    "print(f\"   ✅ Hybrid Recommendations\")\n",
    "print(f\"   ✅ Cold Start Handling\")\n",
    "\n",
    "print(f\"\\n📈 Evaluation Metrics:\")\n",
    "print(f\"   ✅ RMSE & MAE\")\n",
    "print(f\"   ✅ Precision@K\")\n",
    "print(f\"   ✅ Recall@K\") \n",
    "print(f\"   ✅ NDCG@K\")\n",
    "\n",
    "print(f\"\\n🏆 Best Model Performance:\")\n",
    "best_rmse = min([results['RMSE'] for results in model_results.values()])\n",
    "best_model_name = [name for name, results in model_results.items() if results['RMSE'] == best_rmse][0]\n",
    "print(f\"   • {best_model_name}: RMSE = {best_rmse:.4f}\")\n",
    "\n",
    "print(\"\\n\" + \"=\"*60)\n",
    "print(\"🎉 ENHANCED RECOMMENDATION SYSTEM COMPLETE!\")\n",
    "print(\"=\"*60)"
   ]
  }
 ],
 "metadata": {
  "kaggle": {
   "accelerator": "none",
   "dataSources": [
    {
     "datasetId": 626,
     "sourceId": 1187,
     "sourceType": "datasetVersion"
    },
    {
     "datasetId": 4004281,
     "sourceId": 6969416,
     "sourceType": "datasetVersion"
    }
   ],
   "dockerImageVersionId": 31012,
   "isGpuEnabled": false,
   "isInternetEnabled": true,
   "language": "python",
   "sourceType": "notebook"
  },
  "kernelspec": {
   "display_name": "Python 3",
   "language": "python",
   "name": "python3"
  },
  "language_info": {
   "codemirror_mode": {
    "name": "ipython",
    "version": 3
   },
   "file_extension": ".py",
   "mimetype": "text/x-python",
   "name": "python",
   "nbconvert_exporter": "python",
   "pygments_lexer": "ipython3",
   "version": "3.11.11"
  },
  "papermill": {
   "default_parameters": {},
   "duration": 678.65274,
   "end_time": "2025-07-24T20:09:28.274491",
   "environment_variables": {},
   "exception": null,
   "input_path": "__notebook__.ipynb",
   "output_path": "__notebook__.ipynb",
   "parameters": {},
   "start_time": "2025-07-24T19:58:09.621751",
   "version": "2.6.0"
  }
 },
 "nbformat": 4,
 "nbformat_minor": 5
}
